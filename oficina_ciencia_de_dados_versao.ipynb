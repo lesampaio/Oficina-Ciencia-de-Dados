{
  "nbformat": 4,
  "nbformat_minor": 0,
  "metadata": {
    "colab": {
      "provenance": []
    },
    "kernelspec": {
      "name": "python3",
      "display_name": "Python 3"
    },
    "language_info": {
      "name": "python"
    }
  },
  "cells": [
    {
      "cell_type": "markdown",
      "source": [
        "# Oficina de Introdução à Ciência de Dados com Python 2023 - PyLadies Fortaleza\n",
        "\n",
        "Índice\n",
        "1.   Análise exploratória\n",
        "2.   Medidas de localização\n",
        "3.   Medidas de variação\n",
        "\n",
        "Facilitadoras\n",
        "*   Letícia Sampaio - [linkedin](https://www.linkedin.com/in/lesampaio/)\n",
        "*   Joamila Brito - [linkedin](https://www.linkedin.com/in/joamila/)\n",
        "\n",
        "\n",
        "\n"
      ],
      "metadata": {
        "id": "irKFQY2h8yTa"
      }
    },
    {
      "cell_type": "markdown",
      "source": [
        "## Rodar esta célula para conectar com o Google Drive"
      ],
      "metadata": {
        "id": "WsDuk5CVDRky"
      }
    },
    {
      "cell_type": "code",
      "execution_count": 1,
      "metadata": {
        "colab": {
          "base_uri": "https://localhost:8080/"
        },
        "id": "eHu1Ij9ODP-I",
        "outputId": "c7d001fc-38f9-45be-d105-5d9cf8198882"
      },
      "outputs": [
        {
          "output_type": "stream",
          "name": "stdout",
          "text": [
            "Mounted at /content/drive\n"
          ]
        }
      ],
      "source": [
        "from google.colab import drive\n",
        "drive.mount('/content/drive')"
      ]
    },
    {
      "cell_type": "markdown",
      "source": [
        "## Importar bibliotecas Python\n",
        "\n",
        "- [Pandas](https://pandas.pydata.org/docs/index.html): Pandas é uma biblioteca de software criada para a linguagem Python para manipulação e análise de dados. Em particular, oferece estruturas e operações para manipular tabelas numéricas e séries temporais.\n",
        "- [Seaborn](https://seaborn.pydata.org/index.html): Seaborn é uma biblioteca de visualização de dados Python baseada em *matplotlib*. Ele fornece uma interface de alto nível para desenhar gráficos estatísticos atraentes e informativos."
      ],
      "metadata": {
        "id": "NYM_daTkGRam"
      }
    },
    {
      "cell_type": "code",
      "source": [
        "import pandas as pd\n",
        "import seaborn as sns"
      ],
      "metadata": {
        "id": "up9f5B5fGW82"
      },
      "execution_count": 2,
      "outputs": []
    },
    {
      "cell_type": "markdown",
      "source": [
        "# **Seção 1: Análise Exploratória**"
      ],
      "metadata": {
        "id": "8DZiMjqRIFG7"
      }
    },
    {
      "cell_type": "markdown",
      "source": [
        "## Conjunto de dados dos **Jogos Olímpicos** 🥇\n",
        "\n",
        "Fonte: [Kaggle](https://www.kaggle.com/datasets/bhanupratapbiswas/olympic-data)"
      ],
      "metadata": {
        "id": "0NtgelxEFM4D"
      }
    },
    {
      "cell_type": "code",
      "source": [
        "# Path para conjunto de dados\n",
        "data_path = \"/content/drive/MyDrive/PyLadies/oficina_ciencia_de_dados/dataset_olympics.csv\"\n",
        "\n",
        "# Carregar os dados\n",
        "dados = pd.read_csv(data_path)"
      ],
      "metadata": {
        "id": "1IsUQm3sDXey"
      },
      "execution_count": 3,
      "outputs": []
    },
    {
      "cell_type": "markdown",
      "source": [
        "Visualização do DataFrame\n",
        "- DataFrame: Estrutura básica em Pandas, representa uma tabela.\n",
        "\n",
        "\n",
        "Vamos trabalhar com **Dados estruturados**\n",
        "- Altamente organizados e possue formato bem definido das informações. Tipos básicos de dados estruturados:\n",
        "  - Quantitativos ou numéricos\n",
        "  - Qualitativos ou categóricos"
      ],
      "metadata": {
        "id": "Mo8moxwG_mKD"
      }
    },
    {
      "cell_type": "code",
      "source": [
        "# Visualização das 5 primeiras linhas do DataFrame\n",
        "dados.head()"
      ],
      "metadata": {
        "id": "28ftMmT4_O0u"
      },
      "execution_count": null,
      "outputs": []
    },
    {
      "cell_type": "markdown",
      "source": [
        "## Descrever conjunto de dados"
      ],
      "metadata": {
        "id": "amzW77TbH_YN"
      }
    },
    {
      "cell_type": "markdown",
      "source": [
        "Visualizar colunas dos DataFrame"
      ],
      "metadata": {
        "id": "0WGLPBCZW4wV"
      }
    },
    {
      "cell_type": "code",
      "source": [
        "dados.columns"
      ],
      "metadata": {
        "id": "sgXJpdQIW7vS"
      },
      "execution_count": null,
      "outputs": []
    },
    {
      "cell_type": "code",
      "source": [
        "# Selecionando uma coluna do DataFrame\n",
        "\n",
        "## Forma 01\n",
        "dados[\"Season\"]\n",
        "\n",
        "## Forma 02\n",
        "#dados.Season"
      ],
      "metadata": {
        "id": "QTtydvGZuqrU"
      },
      "execution_count": null,
      "outputs": []
    },
    {
      "cell_type": "markdown",
      "source": [
        "Descrever tamanho total do DataFrame\n",
        "- DataFrame: Tabela"
      ],
      "metadata": {
        "id": "WV0xyWhNXCxX"
      }
    },
    {
      "cell_type": "code",
      "source": [
        "len( dados )"
      ],
      "metadata": {
        "id": "o-tzh1gbXDrj"
      },
      "execution_count": null,
      "outputs": []
    },
    {
      "cell_type": "markdown",
      "source": [
        "Mostrar quantidades de linhas e colunas"
      ],
      "metadata": {
        "id": "97qruRZWIMYa"
      }
    },
    {
      "cell_type": "code",
      "source": [
        "dados.shape"
      ],
      "metadata": {
        "id": "mfi8uvFYIJyp"
      },
      "execution_count": null,
      "outputs": []
    },
    {
      "cell_type": "markdown",
      "source": [
        "Visualizar valores únicos de uma variável"
      ],
      "metadata": {
        "id": "Z9Q0hILhXKTW"
      }
    },
    {
      "cell_type": "code",
      "source": [
        "dados[\"Sport\"].unique()"
      ],
      "metadata": {
        "id": "4xknOYDCXMe6"
      },
      "execution_count": null,
      "outputs": []
    },
    {
      "cell_type": "markdown",
      "source": [
        "Slice\n",
        "- Visualizar um recorte das informações"
      ],
      "metadata": {
        "id": "XloFsLs1ESJT"
      }
    },
    {
      "cell_type": "code",
      "source": [
        "fatia = dados[dados[\"Year\"] > 2000]"
      ],
      "metadata": {
        "id": "taKYVtpbD5W9"
      },
      "execution_count": null,
      "outputs": []
    },
    {
      "cell_type": "code",
      "source": [
        "# Valores únicos da fatia de dados\n",
        "fatia[\"Sport\"].unique()"
      ],
      "metadata": {
        "id": "_Gikrp_rFm1m"
      },
      "execution_count": null,
      "outputs": []
    },
    {
      "cell_type": "markdown",
      "source": [
        "Visualizar tipos das variáveis:\n",
        "- Categóricas: int64, float64\n",
        "- Numéricas: object (categorical)"
      ],
      "metadata": {
        "id": "6P4EkBUGIfMs"
      }
    },
    {
      "cell_type": "code",
      "source": [
        "dados.info()"
      ],
      "metadata": {
        "id": "JWq95930G78m"
      },
      "execution_count": null,
      "outputs": []
    },
    {
      "cell_type": "markdown",
      "source": [
        "Descrever dados faltantes: NaN\n",
        "- NaN é um valor ou símbolo usado nas linguagens de programação para representar um valor numérico indefinido ou irrepresentável"
      ],
      "metadata": {
        "id": "fppSMJ9LKNRZ"
      }
    },
    {
      "cell_type": "code",
      "source": [
        "dados.head()"
      ],
      "metadata": {
        "id": "daiMKQDMGcDo"
      },
      "execution_count": null,
      "outputs": []
    },
    {
      "cell_type": "code",
      "source": [
        "# Buscar NaN no DataFrame completo\n",
        "dados.isna().sum()"
      ],
      "metadata": {
        "id": "bk7lAksEJmFe"
      },
      "execution_count": null,
      "outputs": []
    },
    {
      "cell_type": "code",
      "source": [
        "# Buscar NaN em uma coluna do DataFrame\n",
        "dados[\"Age\"].isna().sum()"
      ],
      "metadata": {
        "id": "E0Yy9fPAPyyv"
      },
      "execution_count": null,
      "outputs": []
    },
    {
      "cell_type": "markdown",
      "source": [
        "## Investigar motivos dos dados ausentes\n",
        "\n",
        "- Falha de medição\n",
        "- Correlação com outra variável ou contexto"
      ],
      "metadata": {
        "id": "OpN5if7wKvbF"
      }
    },
    {
      "cell_type": "markdown",
      "source": [
        "Problema: Dados ausentes das variável idade. Isso pode estar relacionado ao ano de acontecimento das olimpíadas?\n",
        "\n",
        "Hipótese: Olimpíadas mais antigas, em geral, apresentaram mais problemas para armazenar os registros da variável idade."
      ],
      "metadata": {
        "id": "anvmQeDxPehz"
      }
    },
    {
      "cell_type": "code",
      "source": [
        "# Filtrar linhas do DataFrame em que 'Age' está vazia\n",
        "dados_age_nan = dados[ dados[\"Age\"].isna() ]\n",
        "\n",
        "# Visualizar DataFrame\n",
        "dados_age_nan.head()"
      ],
      "metadata": {
        "id": "Krk0MYIkKcfC"
      },
      "execution_count": null,
      "outputs": []
    },
    {
      "cell_type": "code",
      "source": [
        "# Contabilizar o total de valores vazios para cada ano\n",
        "dados_age_nan[\"Year\"].value_counts()"
      ],
      "metadata": {
        "id": "sEgdE2GHTwud"
      },
      "execution_count": null,
      "outputs": []
    },
    {
      "cell_type": "code",
      "source": [
        "# Ordenar a contagem por Index (Ano)\n",
        "dados_age_nan[\"Year\"].value_counts().sort_index()"
      ],
      "metadata": {
        "id": "WorX1UxQUPFg"
      },
      "execution_count": null,
      "outputs": []
    },
    {
      "cell_type": "code",
      "source": [
        "# Plotar histograma que apresente a distribuição dos valores ausentes ao longo dos anos\n",
        "sns.histplot( dados_age_nan[\"Year\"].value_counts() )"
      ],
      "metadata": {
        "id": "IzkGnL-BT4OF"
      },
      "execution_count": null,
      "outputs": []
    },
    {
      "cell_type": "code",
      "source": [
        "# Plotar histograma que apresente a distribuição dos valores ausentes ao longo dos anos (Ordenado por index)\n",
        "\n",
        "### Seu código"
      ],
      "metadata": {
        "id": "uTyxbOzhUeYS"
      },
      "execution_count": null,
      "outputs": []
    },
    {
      "cell_type": "markdown",
      "source": [
        "**Exercício 1**\n",
        "\n",
        "Problema 1: Por que existem valores ausentes de medalhas? Como você pode construir uma hipótese para esse problema a partir dos dados?\n",
        "\n",
        "Problema 2: Por que existem valores ausentes de altura? Como você pode construir uma hipótese para esse problema a partir dos dados?"
      ],
      "metadata": {
        "id": "NlF1tSOcQFdf"
      }
    },
    {
      "cell_type": "code",
      "source": [
        "# Resolução\n",
        "\n",
        "### Seu código"
      ],
      "metadata": {
        "id": "sjk60kXwOToN"
      },
      "execution_count": 29,
      "outputs": []
    },
    {
      "cell_type": "markdown",
      "source": [
        "# **Seção 1.1: Medidas de Posição (Tendência Central)**\n",
        "- As medidas de posição ou medidas de tendência central indicam um valor que melhor representa todo o conjunto de dados, ou seja, dão a tendência da concentração dos valores observados."
      ],
      "metadata": {
        "id": "BDO2ryIYYWHl"
      }
    },
    {
      "cell_type": "markdown",
      "source": [
        "Descrever as métricas estatísticas das variáveis numéricas\n",
        "* Média (mean) - é calculada somando-se todos os valores de um conjunto de dados e dividindo-se pelo número de elementos deste conjunto.\n",
        "* Amplitude (max-min) - valores máximos e mínimos da variável.\n",
        "* Percentis (25%, 50%, 75%) - os percentis são medidas que dividem a amostra em 100 partes.\n",
        "* Mediana (50%) - é o número central de uma lista de dados organizados de forma crescente ou decrescente."
      ],
      "metadata": {
        "id": "UzAhIlTUOGdn"
      }
    },
    {
      "cell_type": "code",
      "source": [
        "dados.describe()"
      ],
      "metadata": {
        "id": "jvL9JDFrISMi"
      },
      "execution_count": null,
      "outputs": []
    },
    {
      "cell_type": "markdown",
      "source": [
        "Amplitude"
      ],
      "metadata": {
        "id": "54d3Tg6eIrnR"
      }
    },
    {
      "cell_type": "code",
      "source": [
        "# Valor máximo da variável\n",
        "dados[\"Height\"].max()\n",
        "\n",
        "# Valor mínimo da variável\n",
        "#dados[\"Height\"].min()"
      ],
      "metadata": {
        "id": "XfaH74zbXUMT"
      },
      "execution_count": null,
      "outputs": []
    },
    {
      "cell_type": "markdown",
      "source": [
        "Percentis"
      ],
      "metadata": {
        "id": "1pf9ex-OItXt"
      }
    },
    {
      "cell_type": "code",
      "source": [
        "# Todas as colunas numéricas\n",
        "dados.quantile(q = 0.25)"
      ],
      "metadata": {
        "id": "c_OabYftIp8M"
      },
      "execution_count": null,
      "outputs": []
    },
    {
      "cell_type": "code",
      "source": [
        "# Calcule o percentil para a coluna 'Height'\n",
        "\n",
        "### Seu código"
      ],
      "metadata": {
        "id": "7v8oN3wZJtjo"
      },
      "execution_count": null,
      "outputs": []
    },
    {
      "cell_type": "markdown",
      "source": [
        "## Boxplot (Diagrama de caixas)\n",
        "Uma ferramenta gráfica para representar a variação de dados observados de uma variável numérica por meio de quartis.\n",
        "\n",
        "![Componentes do boxplot](https://fernandafperes.com.br/blog/interpretacao-boxplot/g2.png)"
      ],
      "metadata": {
        "id": "lSyA23YBQmrR"
      }
    },
    {
      "cell_type": "markdown",
      "source": [
        "Quartil\n",
        "- Uma representação ou uma delimitação para o percentil. Na prática, teremos três quartis que dividirão um conjunto de dados em quatro partes iguais.\n",
        "\n",
        "![Imagem de quartis](https://didatica.tech/wp-content/uploads/2022/07/Quartil.png)\n",
        "\n",
        "Outliers ou Valores discrepantes\n",
        "- É uma observação que apresenta um grande afastamento das demais da série, ou que é inconsistente."
      ],
      "metadata": {
        "id": "6Irz9JzGOuYW"
      }
    },
    {
      "cell_type": "code",
      "source": [
        "# Idade dos atletas\n",
        "sns.boxplot(data=dados, x=\"Age\")"
      ],
      "metadata": {
        "id": "qN_beDaxP3lw"
      },
      "execution_count": null,
      "outputs": []
    },
    {
      "cell_type": "code",
      "source": [
        "# Idade dos atletas por gênero\n",
        "sns.boxplot(data=dados, x='Age', y='Sex')"
      ],
      "metadata": {
        "id": "BRl6SGTLQaaP"
      },
      "execution_count": null,
      "outputs": []
    },
    {
      "cell_type": "markdown",
      "source": [
        "# **Seção 1.3: Medidas de Variação**"
      ],
      "metadata": {
        "id": "xS4QX3FORYSd"
      }
    },
    {
      "cell_type": "markdown",
      "source": [
        "* Variância (var)\n",
        "* Desvio padrão (std)"
      ],
      "metadata": {
        "id": "kZRmdqTGRnIF"
      }
    },
    {
      "cell_type": "code",
      "source": [
        "dados.var(axis=0)"
      ],
      "metadata": {
        "id": "5H8OnvG-RpQE"
      },
      "execution_count": null,
      "outputs": []
    },
    {
      "cell_type": "code",
      "source": [
        "dados.std(axis=0)"
      ],
      "metadata": {
        "id": "EUFPD1FmRwco"
      },
      "execution_count": null,
      "outputs": []
    },
    {
      "cell_type": "markdown",
      "source": [
        "# **Seção 1.4: Correlação**\n",
        "\n",
        "Correlação de Pearson\n",
        "- Mede o grau da correlação entre duas variáveis de escala métrica. Este coeficiente, normalmente representado por ρ assume apenas valores entre -1 e 1."
      ],
      "metadata": {
        "id": "9bYgX2UtTCfG"
      }
    },
    {
      "cell_type": "code",
      "source": [
        "dados.corr(numeric_only=True)"
      ],
      "metadata": {
        "id": "7nCN0JWLTGCP"
      },
      "execution_count": null,
      "outputs": []
    },
    {
      "cell_type": "code",
      "source": [
        "# Mapa de calor\n",
        "sns.heatmap(dados.corr(numeric_only=True), cmap=\"Blues\", annot=True)"
      ],
      "metadata": {
        "id": "_jYoCJEFTJMx"
      },
      "execution_count": null,
      "outputs": []
    },
    {
      "cell_type": "code",
      "source": [
        "# Observar correlações através de gráfico de dispersão\n",
        "sns.scatterplot(data=dados, x='Weight', y='Height')"
      ],
      "metadata": {
        "id": "-LnHtfRfTkKv"
      },
      "execution_count": null,
      "outputs": []
    },
    {
      "cell_type": "code",
      "source": [
        "# Observar correlações através de gráfico de dispersão\n",
        "sns.scatterplot(data=dados, x='Weight', y='Height', hue='Sex')"
      ],
      "metadata": {
        "id": "5om-qCznVnYQ"
      },
      "execution_count": null,
      "outputs": []
    },
    {
      "cell_type": "markdown",
      "source": [
        "# **Sua vez!**\n",
        "\n",
        "# **Faça a análise de uma ou mais variáveis do conjunto de dados utilizando o que aprendemos hoje 📑**"
      ],
      "metadata": {
        "id": "zqFXvTBK4doK"
      }
    },
    {
      "cell_type": "code",
      "source": [],
      "metadata": {
        "id": "WD02Kj_z4yf4"
      },
      "execution_count": null,
      "outputs": []
    }
  ]
}